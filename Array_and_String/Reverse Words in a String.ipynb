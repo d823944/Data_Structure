{
 "cells": [
  {
   "cell_type": "markdown",
   "metadata": {},
   "source": [
    "### Reverse Words in a String\n",
    "Given an input string, reverse the string word by word.\n",
    "\n",
    "Example 1:\n",
    "\n",
    "Input: \"the sky is blue\"   \n",
    "Output: \"blue is sky the\"   \n",
    "\n",
    "Example 2:   \n",
    "\n",
    "Input: \"  hello world!  \"   \n",
    "Output: \"world! hello\"   \n",
    "Explanation: Your reversed string should not contain leading or trailing spaces.   \n",
    "\n",
    "Example 3:\n",
    "\n",
    "Input: \"a good   example\"   \n",
    "Output: \"example good a\"   \n",
    "Explanation: You need to reduce multiple spaces between two words to a single space in the reversed string."
   ]
  },
  {
   "cell_type": "code",
   "execution_count": 1,
   "metadata": {},
   "outputs": [],
   "source": [
    "class Solution(object):\n",
    "    def reverseWords(self, s):\n",
    "        \"\"\"\n",
    "        :type s: str\n",
    "        :rtype: str\n",
    "        \"\"\"\n",
    "        s = s.split()\n",
    "        s.reverse()\n",
    "        return ' '.join(s)\n",
    "            "
   ]
  },
  {
   "cell_type": "code",
   "execution_count": 2,
   "metadata": {},
   "outputs": [
    {
     "name": "stdout",
     "output_type": "stream",
     "text": [
      "blue is sky the\n",
      "world! hello\n",
      "example good a\n"
     ]
    }
   ],
   "source": [
    "solution = Solution()\n",
    "print(solution.reverseWords(\"the sky is blue\"))\n",
    "print(solution.reverseWords(\" hello world! \"))\n",
    "print(solution.reverseWords(\"a good example\"))"
   ]
  },
  {
   "cell_type": "code",
   "execution_count": null,
   "metadata": {},
   "outputs": [],
   "source": []
  }
 ],
 "metadata": {
  "kernelspec": {
   "display_name": "Python 3",
   "language": "python",
   "name": "python3"
  },
  "language_info": {
   "codemirror_mode": {
    "name": "ipython",
    "version": 3
   },
   "file_extension": ".py",
   "mimetype": "text/x-python",
   "name": "python",
   "nbconvert_exporter": "python",
   "pygments_lexer": "ipython3",
   "version": "3.7.2"
  }
 },
 "nbformat": 4,
 "nbformat_minor": 2
}
