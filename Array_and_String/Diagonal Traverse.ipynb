{
 "cells": [
  {
   "cell_type": "markdown",
   "metadata": {},
   "source": [
    "### Diagonal Traverse\n",
    "Given a matrix of M x N elements (M rows, N columns), return all elements of the matrix in diagonal order as shown in the below image."
   ]
  },
  {
   "cell_type": "code",
   "execution_count": 1,
   "metadata": {},
   "outputs": [],
   "source": [
    "test = [\n",
    "[\n",
    " [ 1, 2, 3 ],\n",
    " [ 4, 5, 6 ],\n",
    " [ 7, 8, 9 ]\n",
    "], # [1,2,4,7,5,3,6,8,9]\n",
    "[], \n",
    "[[1], [2], [3], [4]],\n",
    "[[1, 2, 3, 4]],\n",
    "]"
   ]
  },
  {
   "cell_type": "markdown",
   "metadata": {},
   "source": [
    "- val    (r, c)\n",
    "- 1       (0, 0)\n",
    "- 2      (0, 1)\n",
    "- 4      (1, 0)\n",
    "- 7      (2, 0)\n",
    "- 5      (1, 1)\n",
    "- 3      (0, 2)\n",
    "- 6      (1, 2)\n",
    "- 8      (2, 1)\n",
    "- 9      (2, 2)"
   ]
  },
  {
   "cell_type": "code",
   "execution_count": 2,
   "metadata": {},
   "outputs": [],
   "source": [
    "class Solution(object):\n",
    "    def findDiagonalOrder(self, matrix):\n",
    "        \"\"\"\n",
    "        :type matrix: List[List[int]]\n",
    "        :rtype: List[int]\n",
    "        \"\"\"\n",
    "        if not matrix:\n",
    "            return []\n",
    "        \n",
    "        m = len(matrix)\n",
    "        n = len(matrix[0])\n",
    "        \n",
    "        if m == 1:\n",
    "            return matrix[0]\n",
    "        \n",
    "        if n == 1:\n",
    "            return [matrix[i][0] for i in range(m)] \n",
    "\n",
    "        dict_max = {i:[] for i in range(m+n-1)}\n",
    "        for r in range(m):\n",
    "            for c in range(n):\n",
    "                dict_max[r + c].append(matrix[r][c])\n",
    "                \n",
    "        #print(dict_max)\n",
    "        res = []\n",
    "        for k, v in dict_max.items():\n",
    "            if k%2 == 0:\n",
    "                v.reverse()\n",
    "            res += v\n",
    "                \n",
    "        return res"
   ]
  },
  {
   "cell_type": "code",
   "execution_count": 3,
   "metadata": {},
   "outputs": [
    {
     "name": "stdout",
     "output_type": "stream",
     "text": [
      "[1, 2, 4, 7, 5, 3, 6, 8, 9]\n",
      "[]\n",
      "[1, 2, 3, 4]\n",
      "[1, 2, 3, 4]\n"
     ]
    }
   ],
   "source": [
    "solution = Solution()\n",
    "for t in test:\n",
    "    print(solution.findDiagonalOrder(t))"
   ]
  },
  {
   "cell_type": "code",
   "execution_count": null,
   "metadata": {},
   "outputs": [],
   "source": []
  }
 ],
 "metadata": {
  "kernelspec": {
   "display_name": "Python 3",
   "language": "python",
   "name": "python3"
  },
  "language_info": {
   "codemirror_mode": {
    "name": "ipython",
    "version": 3
   },
   "file_extension": ".py",
   "mimetype": "text/x-python",
   "name": "python",
   "nbconvert_exporter": "python",
   "pygments_lexer": "ipython3",
   "version": "3.7.2"
  }
 },
 "nbformat": 4,
 "nbformat_minor": 2
}
