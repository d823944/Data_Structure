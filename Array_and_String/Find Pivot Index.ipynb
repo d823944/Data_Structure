{
 "cells": [
  {
   "cell_type": "markdown",
   "metadata": {},
   "source": [
    "### Find Pivot Index\n",
    "\n",
    "Given an array of integers nums, write a method that returns the \"pivot\" index of this array.\n",
    "\n",
    "We define the pivot index as the index where the sum of the numbers to the left of the index is equal to the sum of the numbers to the right of the index.\n",
    "\n",
    "If no such index exists, we should return -1. If there are multiple pivot indexes, you should return the left-most pivot index."
   ]
  },
  {
   "cell_type": "code",
   "execution_count": 1,
   "metadata": {},
   "outputs": [],
   "source": [
    "class Solution(object):\n",
    "    def pivotIndex(self, nums):\n",
    "        \"\"\"\n",
    "        :type nums: List[int]\n",
    "        :rtype: int\n",
    "        \"\"\"\n",
    "        \n",
    "        if nums == []:\n",
    "            return -1\n",
    "        \n",
    "        if sum(nums[1:]) == 0:\n",
    "                return 0\n",
    "            \n",
    "        isFound = False\n",
    "        sum1 = 0\n",
    "        sum2 = sum(nums)\n",
    "        for i in range(len(nums)-1):\n",
    "            #print(f\"i={i}, sum1={sum1}, sum2={sum2}\")\n",
    "            sum1 += nums[i]\n",
    "            sum2 -= nums[i]\n",
    "            if sum1 == (sum2 - nums[i+1]):\n",
    "                isFound = True\n",
    "                break\n",
    "                \n",
    "        if isFound:\n",
    "            return i+1\n",
    "        else:\n",
    "            if sum(nums[:-1]) == 0:\n",
    "                return len(nums)-1\n",
    "            return -1"
   ]
  },
  {
   "cell_type": "code",
   "execution_count": 2,
   "metadata": {},
   "outputs": [],
   "source": [
    "test = [\n",
    "        [1,7,3,6,5,6], #3\n",
    "        [-1,-1,0,1,1,0], #5\n",
    "        [-1,-1,-1,-1,1,1], #-1\n",
    "        [-1,-1,-1,0,1,1], #0\n",
    "        [-1,-1,1,1,0,0], #4\n",
    "        [-1,-1,0,1,1,-1], #0\n",
    "        ]"
   ]
  },
  {
   "cell_type": "code",
   "execution_count": 3,
   "metadata": {},
   "outputs": [
    {
     "name": "stdout",
     "output_type": "stream",
     "text": [
      "3\n",
      "5\n",
      "-1\n",
      "0\n",
      "4\n",
      "0\n"
     ]
    }
   ],
   "source": [
    "solution = Solution()\n",
    "for t in test:\n",
    "    print(solution.pivotIndex(t))"
   ]
  },
  {
   "cell_type": "code",
   "execution_count": null,
   "metadata": {},
   "outputs": [],
   "source": []
  }
 ],
 "metadata": {
  "kernelspec": {
   "display_name": "Python 3",
   "language": "python",
   "name": "python3"
  },
  "language_info": {
   "codemirror_mode": {
    "name": "ipython",
    "version": 3
   },
   "file_extension": ".py",
   "mimetype": "text/x-python",
   "name": "python",
   "nbconvert_exporter": "python",
   "pygments_lexer": "ipython3",
   "version": "3.7.2"
  }
 },
 "nbformat": 4,
 "nbformat_minor": 2
}
