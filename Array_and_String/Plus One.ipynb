{
 "cells": [
  {
   "cell_type": "markdown",
   "metadata": {},
   "source": [
    "### Plus One\n",
    "Given a non-empty array of digits representing a non-negative integer, plus one to the integer.\n",
    "\n",
    "The digits are stored such that the most significant digit is at the head of the list, and each element in the array contain a single digit.\n",
    "\n",
    "You may assume the integer does not contain any leading zero, except the number 0 itself."
   ]
  },
  {
   "cell_type": "code",
   "execution_count": 1,
   "metadata": {},
   "outputs": [
    {
     "data": {
      "text/plain": [
       "'\\nclass Solution(object):\\n    def plusOne(self, digits):\\n        \"\"\"\\n        :type digits: List[int]\\n        :rtype: List[int]\\n        \"\"\"\\n        string = \\'\\'\\n        for n in digits:\\n            string += str(n)\\n        \\n        string = str(int(string) + 1)\\n        \\n        return [int(c) for c in string]\\n'"
      ]
     },
     "execution_count": 1,
     "metadata": {},
     "output_type": "execute_result"
    }
   ],
   "source": [
    "# Implementation-1: faster than 15%\n",
    "'''\n",
    "class Solution(object):\n",
    "    def plusOne(self, digits):\n",
    "        \"\"\"\n",
    "        :type digits: List[int]\n",
    "        :rtype: List[int]\n",
    "        \"\"\"\n",
    "        string = ''\n",
    "        for n in digits:\n",
    "            string += str(n)\n",
    "        \n",
    "        string = str(int(string) + 1)\n",
    "        \n",
    "        return [int(c) for c in string]\n",
    "'''"
   ]
  },
  {
   "cell_type": "code",
   "execution_count": 2,
   "metadata": {},
   "outputs": [
    {
     "data": {
      "text/plain": [
       "'\\nclass Solution(object):\\n    def plusOne(self, digits):\\n        \"\"\"\\n        :type digits: List[int]\\n        :rtype: List[int]\\n        \"\"\"\\n        if not digits:\\n            return []\\n        \\n        if digits[-1] < 9:\\n            digits[-1] += 1\\n        else:\\n            idx = len(digits) - 1\\n            while idx >=0 and digits[idx] == 9:\\n                digits[idx] = 0\\n                idx -= 1\\n            if idx != -1:\\n                digits[idx] += 1\\n            else:\\n                digits.insert(0, 1)\\n        \\n        return digits\\n'"
      ]
     },
     "execution_count": 2,
     "metadata": {},
     "output_type": "execute_result"
    }
   ],
   "source": [
    "# Implementation-2: faster than 18%\n",
    "'''\n",
    "class Solution(object):\n",
    "    def plusOne(self, digits):\n",
    "        \"\"\"\n",
    "        :type digits: List[int]\n",
    "        :rtype: List[int]\n",
    "        \"\"\"\n",
    "        if not digits:\n",
    "            return []\n",
    "        \n",
    "        if digits[-1] < 9:\n",
    "            digits[-1] += 1\n",
    "        else:\n",
    "            idx = len(digits) - 1\n",
    "            while idx >=0 and digits[idx] == 9:\n",
    "                digits[idx] = 0\n",
    "                idx -= 1\n",
    "            if idx != -1:\n",
    "                digits[idx] += 1\n",
    "            else:\n",
    "                digits.insert(0, 1)\n",
    "        \n",
    "        return digits\n",
    "'''"
   ]
  },
  {
   "cell_type": "code",
   "execution_count": 3,
   "metadata": {},
   "outputs": [],
   "source": [
    "# Implementation-3: faster than 59%\n",
    "\n",
    "class Solution:\n",
    "    def plusOne(self, digits):\n",
    "        num = 0\n",
    "        for i in range(len(digits)):\n",
    "            num += digits[i] * pow(10, (len(digits)-1-i))\n",
    "        return [int(i) for i in str(num+1)]"
   ]
  },
  {
   "cell_type": "code",
   "execution_count": 4,
   "metadata": {},
   "outputs": [],
   "source": [
    "test = [\n",
    "    [1,2,3],  # Output: [1,2,4]\n",
    "    [4,3,2,1], # Output: [4,3,2,2]\n",
    "]"
   ]
  },
  {
   "cell_type": "code",
   "execution_count": 5,
   "metadata": {},
   "outputs": [
    {
     "name": "stdout",
     "output_type": "stream",
     "text": [
      "[1, 2, 4]\n",
      "[4, 3, 2, 2]\n"
     ]
    }
   ],
   "source": [
    "solution = Solution()\n",
    "for t in test:\n",
    "    print(solution.plusOne(t))"
   ]
  },
  {
   "cell_type": "code",
   "execution_count": null,
   "metadata": {},
   "outputs": [],
   "source": []
  }
 ],
 "metadata": {
  "kernelspec": {
   "display_name": "Python 3",
   "language": "python",
   "name": "python3"
  },
  "language_info": {
   "codemirror_mode": {
    "name": "ipython",
    "version": 3
   },
   "file_extension": ".py",
   "mimetype": "text/x-python",
   "name": "python",
   "nbconvert_exporter": "python",
   "pygments_lexer": "ipython3",
   "version": "3.7.2"
  }
 },
 "nbformat": 4,
 "nbformat_minor": 2
}
