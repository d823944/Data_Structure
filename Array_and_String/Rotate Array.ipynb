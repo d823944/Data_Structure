{
 "cells": [
  {
   "cell_type": "markdown",
   "metadata": {},
   "source": [
    "### Rotate Array\n",
    "Given an array, rotate the array to the right by k steps, where k is non-negative.\n",
    "\n",
    "Example 1:   \n",
    "\n",
    "Input: [1,2,3,4,5,6,7] and k = 3   \n",
    "Output: [5,6,7,1,2,3,4]   \n",
    "Explanation:   \n",
    "rotate 1 steps to the right: [7,1,2,3,4,5,6]   \n",
    "rotate 2 steps to the right: [6,7,1,2,3,4,5]   \n",
    "rotate 3 steps to the right: [5,6,7,1,2,3,4]   \n",
    "Example 2:   \n",
    "\n",
    "Input: [-1,-100,3,99] and k = 2   \n",
    "Output: [3,99,-1,-100]   \n",
    "Explanation:    \n",
    "rotate 1 steps to the right: [99,-1,-100,3]   \n",
    "rotate 2 steps to the right: [3,99,-1,-100]   "
   ]
  },
  {
   "cell_type": "code",
   "execution_count": 1,
   "metadata": {},
   "outputs": [],
   "source": [
    "class Solution(object):\n",
    "    def rotate_1(self, nums, k):\n",
    "        \"\"\"\n",
    "        :type nums: List[int]\n",
    "        :type k: int\n",
    "        :rtype: None Do not return anything, modify nums in-place instead.\n",
    "        \"\"\"\n",
    "        while (k > 0):\n",
    "            nums.insert(0, nums.pop())\n",
    "            k -= 1"
   ]
  },
  {
   "cell_type": "code",
   "execution_count": 2,
   "metadata": {},
   "outputs": [],
   "source": [
    "class Solution(object):\n",
    "    def rotate(self, nums, k):\n",
    "        \"\"\"\n",
    "        :type nums: List[int]\n",
    "        :type k: int\n",
    "        :rtype: None Do not return anything, modify nums in-place instead.\n",
    "        \"\"\"\n",
    "        l = len(nums)\n",
    "        nums = nums[l-k:] + nums[:l-k]\n",
    "        \n",
    "        print(nums)\n",
    "        "
   ]
  },
  {
   "cell_type": "code",
   "execution_count": 3,
   "metadata": {},
   "outputs": [
    {
     "name": "stdout",
     "output_type": "stream",
     "text": [
      "[5, 6, 7, 1, 2, 3, 4]\n",
      "[1]\n",
      "[2, 1]\n"
     ]
    }
   ],
   "source": [
    "solution = Solution()\n",
    "solution.rotate([1,2,3,4,5,6,7], 3)\n",
    "solution.rotate([1], 0)\n",
    "solution.rotate([1, 2], 1)"
   ]
  },
  {
   "cell_type": "code",
   "execution_count": null,
   "metadata": {},
   "outputs": [],
   "source": []
  }
 ],
 "metadata": {
  "kernelspec": {
   "display_name": "Python 3",
   "language": "python",
   "name": "python3"
  },
  "language_info": {
   "codemirror_mode": {
    "name": "ipython",
    "version": 3
   },
   "file_extension": ".py",
   "mimetype": "text/x-python",
   "name": "python",
   "nbconvert_exporter": "python",
   "pygments_lexer": "ipython3",
   "version": "3.7.2"
  }
 },
 "nbformat": 4,
 "nbformat_minor": 2
}
