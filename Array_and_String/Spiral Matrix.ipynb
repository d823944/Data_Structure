{
 "cells": [
  {
   "cell_type": "markdown",
   "metadata": {},
   "source": [
    "### Spiral Matrix\n",
    "\n",
    "Given a matrix of m x n elements (m rows, n columns), return all elements of the matrix in spiral order."
   ]
  },
  {
   "cell_type": "code",
   "execution_count": 1,
   "metadata": {},
   "outputs": [],
   "source": [
    "test = [[\n",
    " [ 1, 2, 3 ],\n",
    " [ 4, 5, 6 ],\n",
    " [ 7, 8, 9 ]\n",
    "],\n",
    "[\n",
    "  [1, 2, 3, 4],\n",
    "  [5, 6, 7, 8],\n",
    "  [9,10,11,12]\n",
    "],\n",
    "  [[6,9,7]],\n",
    "  [[2,3,4],[5,6,7],[8,9,10],[11,12,13],[14,15,16]],\n",
    "  [[1,2,3,4,5,6,7,8,9,10],[11,12,13,14,15,16,17,18,19,20]],\n",
    "]"
   ]
  },
  {
   "cell_type": "code",
   "execution_count": 2,
   "metadata": {},
   "outputs": [],
   "source": [
    "class Solution(object):\n",
    "    def spiralOrder(self, matrix):\n",
    "        \"\"\"\n",
    "        :type matrix: List[List[int]]\n",
    "        :rtype: List[int]\n",
    "        \"\"\"\n",
    "        if not matrix:\n",
    "            return []\n",
    "        m = len(matrix)\n",
    "        n = len(matrix[0])\n",
    "        \n",
    "        if m == 1:\n",
    "            return matrix[0]\n",
    "        \n",
    "        if n == 1:\n",
    "            return [matrix[i][0] for i in range(m)]\n",
    "        \n",
    "        dict_mat = {i: [] for i in range(m+n-1)}\n",
    "        \n",
    "        for r in range(m):\n",
    "            for c in range(n):\n",
    "                dict_mat[r + c].append(matrix[r][c])\n",
    "\n",
    "        res = []\n",
    "        start = 0\n",
    "        end = m+n-2\n",
    "        cnt = 0\n",
    "        getReverse = False\n",
    "        while True:\n",
    "            #print(dict_mat)\n",
    "            #print(start, end)\n",
    "            #input()\n",
    "            if cnt == m*n:\n",
    "                break\n",
    "            if getReverse:\n",
    "                for i in range(end, start-1, -1):\n",
    "                        res.append(dict_mat[i].pop())\n",
    "                        cnt += 1\n",
    "            else:\n",
    "                for i in range(start, end+1):\n",
    "                        res.append(dict_mat[i].pop(0))\n",
    "                        cnt += 1\n",
    "            start, end = start+1, end-1\n",
    "            getReverse = not getReverse\n",
    "            #print(res)\n",
    "        \n",
    "        return res\n",
    "        "
   ]
  },
  {
   "cell_type": "code",
   "execution_count": 3,
   "metadata": {},
   "outputs": [
    {
     "name": "stdout",
     "output_type": "stream",
     "text": [
      "[1, 2, 3, 6, 9, 8, 7, 4, 5]\n",
      "[1, 2, 3, 4, 8, 12, 11, 10, 9, 5, 6, 7]\n",
      "[6, 9, 7]\n",
      "[2, 3, 4, 7, 10, 13, 16, 15, 14, 11, 8, 5, 6, 9, 12]\n",
      "[1, 2, 3, 4, 5, 6, 7, 8, 9, 10, 20, 19, 18, 17, 16, 15, 14, 13, 12, 11]\n"
     ]
    }
   ],
   "source": [
    "#test = [[[1,2,3,4,5,6,7,8,9,10],[11,12,13,14,15,16,17,18,19,20]]]\n",
    "\n",
    "solution = Solution()\n",
    "for t in test:\n",
    "    print(solution.spiralOrder(t))"
   ]
  },
  {
   "cell_type": "code",
   "execution_count": 4,
   "metadata": {},
   "outputs": [
    {
     "data": {
      "text/plain": [
       "'\\n[1, 2, 3, 6, 9, 8, 7, 4, 5]\\n[1, 2, 3, 4, 8, 12, 11, 10, 9, 5, 6, 7]\\n[6, 9, 7]\\n[2, 3, 4, 7, 10, 13, 16, 15, 14, 11, 8, 5, 6, 9, 12]\\n[1, 2, 3, 4, 5, 6, 7, 8, 9, 10, 20, 19, 18, 17, 16, 15, 14, 13, 12, 11]\\n'"
      ]
     },
     "execution_count": 4,
     "metadata": {},
     "output_type": "execute_result"
    }
   ],
   "source": [
    "'''\n",
    "[1, 2, 3, 6, 9, 8, 7, 4, 5]\n",
    "[1, 2, 3, 4, 8, 12, 11, 10, 9, 5, 6, 7]\n",
    "[6, 9, 7]\n",
    "[2, 3, 4, 7, 10, 13, 16, 15, 14, 11, 8, 5, 6, 9, 12]\n",
    "[1, 2, 3, 4, 5, 6, 7, 8, 9, 10, 20, 19, 18, 17, 16, 15, 14, 13, 12, 11]\n",
    "'''"
   ]
  },
  {
   "cell_type": "code",
   "execution_count": null,
   "metadata": {},
   "outputs": [],
   "source": []
  }
 ],
 "metadata": {
  "kernelspec": {
   "display_name": "Python 3",
   "language": "python",
   "name": "python3"
  },
  "language_info": {
   "codemirror_mode": {
    "name": "ipython",
    "version": 3
   },
   "file_extension": ".py",
   "mimetype": "text/x-python",
   "name": "python",
   "nbconvert_exporter": "python",
   "pygments_lexer": "ipython3",
   "version": "3.7.2"
  }
 },
 "nbformat": 4,
 "nbformat_minor": 2
}
