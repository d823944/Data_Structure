{
 "cells": [
  {
   "cell_type": "markdown",
   "metadata": {},
   "source": [
    "### Minimum Size Subarray Sum\n",
    "Given an array of n positive integers and a positive integer s, find the minimal length of a contiguous subarray of which the sum ≥ s. If there isn't one, return 0 instead.\n",
    "\n",
    "Example: \n",
    "\n",
    "Input: s = 7, nums = [2,3,1,2,4,3]   \n",
    "Output: 2   \n",
    "Explanation: the subarray [4,3] has the minimal length under the problem constraint.   \n",
    "Follow up:   \n",
    "If you have figured out the O(n) solution, try coding another solution of which the time complexity is O(n log n). "
   ]
  },
  {
   "cell_type": "code",
   "execution_count": 1,
   "metadata": {},
   "outputs": [],
   "source": [
    "class Solution(object):\n",
    "    def minSubArrayLen(self, s, nums):\n",
    "        \"\"\"\n",
    "        :type s: int\n",
    "        :type nums: List[int]\n",
    "        :rtype: int\n",
    "        \"\"\"\n",
    "        len_nums = len(nums)\n",
    "        left = 0\n",
    "        total = 0\n",
    "        min_len = len_nums+1\n",
    "        for right in range(len_nums):\n",
    "            total += nums[right]\n",
    "            while total >= s:\n",
    "                min_len = min(min_len, right-left+1)\n",
    "                total -= nums[left]\n",
    "                left += 1\n",
    "                \n",
    "        if min_len == len_nums+1:\n",
    "            return 0\n",
    "        else:\n",
    "            return min_len\n",
    "        "
   ]
  },
  {
   "cell_type": "code",
   "execution_count": 2,
   "metadata": {},
   "outputs": [
    {
     "name": "stdout",
     "output_type": "stream",
     "text": [
      "2\n",
      "0\n",
      "5\n",
      "0\n"
     ]
    }
   ],
   "source": [
    "solution = Solution()\n",
    "print(solution.minSubArrayLen(7, [2,3,1,2,4,3]))  # 2\n",
    "print(solution.minSubArrayLen(100, []))  # 0\n",
    "print(solution.minSubArrayLen(15, [1, 2, 3, 4, 5]))  # 5\n",
    "print(solution.minSubArrayLen(3, [1, 1]))  # 0"
   ]
  },
  {
   "cell_type": "code",
   "execution_count": null,
   "metadata": {},
   "outputs": [],
   "source": []
  }
 ],
 "metadata": {
  "kernelspec": {
   "display_name": "Python 3",
   "language": "python",
   "name": "python3"
  },
  "language_info": {
   "codemirror_mode": {
    "name": "ipython",
    "version": 3
   },
   "file_extension": ".py",
   "mimetype": "text/x-python",
   "name": "python",
   "nbconvert_exporter": "python",
   "pygments_lexer": "ipython3",
   "version": "3.7.2"
  }
 },
 "nbformat": 4,
 "nbformat_minor": 2
}
